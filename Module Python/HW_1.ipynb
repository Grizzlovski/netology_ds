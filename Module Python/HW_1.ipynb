{
 "cells": [
  {
   "cell_type": "code",
   "execution_count": 6,
   "metadata": {},
   "outputs": [
    {
     "name": "stdout",
     "output_type": "stream",
     "text": [
      "Фраза 2 длиннее фразы 1\n"
     ]
    }
   ],
   "source": [
    "#Задание 1\n",
    "#Даны 2 переменных, в которых хранятся строки произвольной длины: phrase_1 и phrase_2.\n",
    "#Напишите код, который проверяет какая из этих строк длиннее.\n",
    "phrase1 = 'Превед'\n",
    "phrase2 = 'Медвед!'\n",
    "\n",
    "if len(phrase1) == len(phrase2):\n",
    "    print('Фразы равной длины')\n",
    "elif len(phrase1) > len(phrase2):\n",
    "    print('Фраза 1 длиннее фразы 2')\n",
    "elif len(phrase1) < len(phrase2):\n",
    "    print('Фраза 2 длиннее фразы 1')"
   ]
  },
  {
   "cell_type": "code",
   "execution_count": 3,
   "metadata": {},
   "outputs": [
    {
     "name": "stdout",
     "output_type": "stream",
     "text": [
      "Обычный год\n"
     ]
    }
   ],
   "source": [
    "#Задание 2\n",
    "#Дана переменная, в которой хранится четырехзначное число (год). Необходимо написать программу, которая выведет, является ли данный год високосным или обычным.\n",
    "year = 2021\n",
    "\n",
    "if year % 4 == 0:\n",
    "    print('Високосный год')\n",
    "else: \n",
    "    print('Обычный год')"
   ]
  },
  {
   "cell_type": "code",
   "execution_count": 7,
   "metadata": {},
   "outputs": [
    {
     "name": "stdout",
     "output_type": "stream",
     "text": [
      "Ваш знак зодиака: Лев\n"
     ]
    }
   ],
   "source": [
    "#Задание 3\n",
    "#Необходимо написать программу, которая будет запрашивать у пользователя месяц и дату рождения и выводить соответствующий знак зодиака.\n",
    "\n",
    "day = int(input('Введите день: '))\n",
    "month = input('Введите месяц: ').lower()\n",
    "\n",
    "zod = '' #знак зодиака\n",
    "if (month == 'март' and  21 <= day <= 31 ) or (month == 'апрель' and 1 <= day <= 19): \n",
    "    zod ='Овен' \n",
    "elif (month == 'апрель' and 20 <= day <= 30) or (month == 'май' and 1 <= day <= 20):\n",
    "    zod = 'Телец'\n",
    "elif (month == 'май' and 21 <= day <= 31) or (month == 'июнь' and 1 <= day <= 21):\n",
    "    zod = 'Близнецы'\n",
    "elif (month == 'июнь' and 22 <= day <= 30) or (month == 'июль' and 1 <= day <= 22):\n",
    "    zod = 'Рак'        \n",
    "elif (month == 'июль' and 23 <= day <= 31) or (month == 'август' and 1 <= day <= 22):\n",
    "    zod = 'Лев' \n",
    "elif (month == 'август' and 23 <= day <= 31) or (month == 'сентябрь' and 1 <= day <= 22):\n",
    "    zod = 'Дева' \n",
    "elif (month == 'сентябрь' and 23 <= day <= 30) or (month == 'октябрь' and 1 <= day <= 23):\n",
    "    zod = 'Весы' \n",
    "elif (month == 'октябрь' and 24 <= day <= 31) or (month == 'ноябрь' and 1 <= day <= 22):\n",
    "    zod = 'Скорпион' \n",
    "elif (month == 'ноябрь' and 23 <= day <= 30) or (month == 'декабрь' and 1 <= day <= 21):\n",
    "    zod = 'Стрелец' \n",
    "elif (month == 'декабрь' and 22 <= day <= 31) or (month == 'январь' and 1 <= day <= 20):\n",
    "    zod = 'Козерог' \n",
    "elif (month == 'январь' and 21 <= day <= 31) or (month == 'февраль' and 1 <= day <= 18):\n",
    "    zod = 'Водолей' \n",
    "elif (month == 'февраль' and 19 <= day <= 29) or (month == 'март' and 1 <= day <= 20):\n",
    "    zod = 'Рыбы' \n",
    "else:\n",
    "    print('Введена неправильная дата или месяц')\n",
    "    zod = 'не определен'\n",
    "\n",
    "print('Ваш знак зодиака: ' + zod)"
   ]
  },
  {
   "cell_type": "code",
   "execution_count": null,
   "metadata": {},
   "outputs": [],
   "source": []
  }
 ],
 "metadata": {
  "interpreter": {
   "hash": "e0a0931d01d9dc597190cb3f3d8d885198b8921e2bcb04755d2900eeb926aaed"
  },
  "kernelspec": {
   "display_name": "Python 3.8.5 64-bit ('base': conda)",
   "language": "python",
   "name": "python3"
  },
  "language_info": {
   "codemirror_mode": {
    "name": "ipython",
    "version": 3
   },
   "file_extension": ".py",
   "mimetype": "text/x-python",
   "name": "python",
   "nbconvert_exporter": "python",
   "pygments_lexer": "ipython3",
   "version": "3.8.5"
  },
  "orig_nbformat": 4
 },
 "nbformat": 4,
 "nbformat_minor": 2
}
