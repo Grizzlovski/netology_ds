{
 "cells": [
  {
   "cell_type": "code",
   "execution_count": 17,
   "metadata": {},
   "outputs": [
    {
     "name": "stdout",
     "output_type": "stream",
     "text": [
      "Фраза 2 длиннее фразы 1\n"
     ]
    }
   ],
   "source": [
    "#Задание 1\n",
    "#Даны 2 переменных, в которых хранятся строки произвольной длины: phrase_1 и phrase_2.\n",
    "#Напишите код, который проверяет какая из этих строк длиннее.\n",
    "phrase1 = 'Здравствуй'\n",
    "phrase2 = 'проверяющий!'\n",
    "\n",
    "if len(phrase1) == len(phrase2):\n",
    "    print('Фразы равной длины')\n",
    "elif len(phrase1) > len(phrase2):\n",
    "    print('Фраза 1 длиннее фразы 2')\n",
    "elif len(phrase1) < len(phrase2):\n",
    "    print('Фраза 2 длиннее фразы 1')"
   ]
  },
  {
   "cell_type": "code",
   "execution_count": 3,
   "metadata": {},
   "outputs": [
    {
     "name": "stdout",
     "output_type": "stream",
     "text": [
      "Обычный год\n"
     ]
    }
   ],
   "source": [
    "#Задание 2\n",
    "#Дана переменная, в которой хранится четырехзначное число (год). Необходимо написать программу, которая выведет, является ли данный год високосным или обычным.\n",
    "year = 2021\n",
    "\n",
    "if year % 4 == 0:\n",
    "    print('Високосный год')\n",
    "else: \n",
    "    print('Обычный год')"
   ]
  },
  {
   "cell_type": "code",
   "execution_count": 7,
   "metadata": {},
   "outputs": [
    {
     "name": "stdout",
     "output_type": "stream",
     "text": [
      "Ваш знак зодиака: Лев\n"
     ]
    }
   ],
   "source": [
    "#Задание 3\n",
    "#Необходимо написать программу, которая будет запрашивать у пользователя месяц и дату рождения и выводить соответствующий знак зодиака.\n",
    "\n",
    "day = int(input('Введите день: '))\n",
    "month = input('Введите месяц: ').lower()\n",
    "\n",
    "zod = '' #знак зодиака\n",
    "if (month == 'март' and  21 <= day <= 31 ) or (month == 'апрель' and 1 <= day <= 19): \n",
    "    zod ='Овен' \n",
    "elif (month == 'апрель' and 20 <= day <= 30) or (month == 'май' and 1 <= day <= 20):\n",
    "    zod = 'Телец'\n",
    "elif (month == 'май' and 21 <= day <= 31) or (month == 'июнь' and 1 <= day <= 21):\n",
    "    zod = 'Близнецы'\n",
    "elif (month == 'июнь' and 22 <= day <= 30) or (month == 'июль' and 1 <= day <= 22):\n",
    "    zod = 'Рак'        \n",
    "elif (month == 'июль' and 23 <= day <= 31) or (month == 'август' and 1 <= day <= 22):\n",
    "    zod = 'Лев' \n",
    "elif (month == 'август' and 23 <= day <= 31) or (month == 'сентябрь' and 1 <= day <= 22):\n",
    "    zod = 'Дева' \n",
    "elif (month == 'сентябрь' and 23 <= day <= 30) or (month == 'октябрь' and 1 <= day <= 23):\n",
    "    zod = 'Весы' \n",
    "elif (month == 'октябрь' and 24 <= day <= 31) or (month == 'ноябрь' and 1 <= day <= 22):\n",
    "    zod = 'Скорпион' \n",
    "elif (month == 'ноябрь' and 23 <= day <= 30) or (month == 'декабрь' and 1 <= day <= 21):\n",
    "    zod = 'Стрелец' \n",
    "elif (month == 'декабрь' and 22 <= day <= 31) or (month == 'январь' and 1 <= day <= 20):\n",
    "    zod = 'Козерог' \n",
    "elif (month == 'январь' and 21 <= day <= 31) or (month == 'февраль' and 1 <= day <= 18):\n",
    "    zod = 'Водолей' \n",
    "elif (month == 'февраль' and 19 <= day <= 29) or (month == 'март' and 1 <= day <= 20):\n",
    "    zod = 'Рыбы' \n",
    "else:\n",
    "    print('Введена неправильная дата или месяц')\n",
    "    zod = 'не определен'\n",
    "\n",
    "print('Ваш знак зодиака: ' + zod)"
   ]
  },
  {
   "cell_type": "code",
   "execution_count": 7,
   "metadata": {},
   "outputs": [
    {
     "name": "stdout",
     "output_type": "stream",
     "text": [
      "Стандартная коробка №3\n"
     ]
    }
   ],
   "source": [
    "#Задание 4\n",
    "#Вам нужно написать программу для подбора упаковок по размерам товара. Размеры (ширина, длина, высота) хранятся в переменных (в сантиметрах):\n",
    "#если каждое из трех измерений менее или равно 15 сантиметрам, то выведите на экран “Коробка №1”;\n",
    "#если хотя бы одно из измерений больше 15 сантиметров, но менее 50 сантиметров, то выводите “Коробка №2”;\n",
    "#если длина товара больше 2 метров, то выводите “Упаковка для лыж”;\n",
    "#во всех остальных случаях выводите “Стандартная коробка №3”.\n",
    "width = 15\n",
    "length = 50\n",
    "height = 15\n",
    "\n",
    "if width <=15 and length <=15 and height <=15:\n",
    "    print('Коробка №1')\n",
    "elif 15 < width < 50 or 15 < length < 50 or 15 < height < 50:\n",
    "    print('Коробка №2')\n",
    "elif width + length + height > 200:\n",
    "    print('Коробка для лыж')\n",
    "else:\n",
    "    print('Стандартная коробка №3')"
   ]
  },
  {
   "cell_type": "code",
   "execution_count": 32,
   "metadata": {},
   "outputs": [
    {
     "name": "stdout",
     "output_type": "stream",
     "text": [
      "Счастливый билет\n"
     ]
    }
   ],
   "source": [
    "#Задание 5 (необязательное)\n",
    "#Дана переменная, в которой хранится шестизначное число (номер проездного билета). Напишите программу, которая будет определять, является ли данный билет “счастливым”.\n",
    "#Билет считается счастливым, если сумма первых трех цифр совпадает с суммой последних трех цифр номера.\n",
    "ticket = 123321\n",
    "\n",
    "zn = (ticket % 10) \n",
    "zn = zn + ((ticket % 100) - (ticket % 10)) // 10 \n",
    "zn = zn + ((ticket % 1000) - (ticket % 100)) // 100\n",
    "zn = zn - ((ticket % 10000) - (ticket % 1000)) // 1000 \n",
    "zn = zn - ((ticket % 100000) - (ticket % 10000)) // 10000 \n",
    "zn = zn - ((ticket % 1000000) - (ticket % 10000)) // 100000\n",
    "\n",
    "if zn == 0:\n",
    "    print('Счастливый билет')\n",
    "else:\n",
    "    print('Несчастливый билет')\n",
    "\n"
   ]
  },
  {
   "cell_type": "code",
   "execution_count": 16,
   "metadata": {},
   "outputs": [
    {
     "name": "stdout",
     "output_type": "stream",
     "text": [
      "Площадь Вашего прямоугольника: 50\n"
     ]
    }
   ],
   "source": [
    "#Задание 6 (необязательное)\n",
    "#Напишите программу, которая сможет вычислять площади трех фигур (круг, треугольник и прямоугольник). Тип фигуры запрашиваем через пользовательский ввод, после чего делаем запрос характеристик фигуры:\n",
    "\n",
    "#если пользователь выбрал круг, запрашиваем его радиус,\n",
    "#если треугольник – длины трех его сторон;\n",
    "#если прямоугольник – длины двух его сторон.\n",
    "import math \n",
    "\n",
    "fig = input('Введите название фигуры из списка (круг, треугольник, прямоугольник): ').lower()\n",
    "\n",
    "if fig == 'круг':\n",
    "    rad = int(input('Введите радиус: '))\n",
    "    s = math.pi * rad * 2\n",
    "    print('Площадь Вашего круга: {s}'.format(s=s))\n",
    "elif fig == 'треугольник':\n",
    "    a = int(input('Введите длину первой стороны: '))\n",
    "    b = int(input('Введите длину второй стороны: '))\n",
    "    c = int(input('Введите длину третьей стороны: '))\n",
    "    p = (a + b + c) / 2.0\n",
    "    s = math.sqrt(p * (p - a) * (p - b) * (p - c))\n",
    "    print('Площадь Вашего треугольника: {s}'.format(s=s))\n",
    "elif fig == 'прямоугольник':\n",
    "    a = int(input('Введите длину первой стороны: '))\n",
    "    b = int(input('Введите длину второй стороны: '))\n",
    "    s = a * b\n",
    "    print('Площадь Вашего прямоугольника: {s}'.format(s=s))\n",
    "else:\n",
    "    print('Вы ввели фигуру не из списка. Прощайте...')"
   ]
  },
  {
   "cell_type": "code",
   "execution_count": 14,
   "metadata": {},
   "outputs": [
    {
     "data": {
      "text/plain": [
       "14.696938456699069"
      ]
     },
     "execution_count": 14,
     "metadata": {},
     "output_type": "execute_result"
    }
   ],
   "source": []
  }
 ],
 "metadata": {
  "interpreter": {
   "hash": "e0a0931d01d9dc597190cb3f3d8d885198b8921e2bcb04755d2900eeb926aaed"
  },
  "kernelspec": {
   "display_name": "Python 3.8.5 64-bit ('base': conda)",
   "language": "python",
   "name": "python3"
  },
  "language_info": {
   "codemirror_mode": {
    "name": "ipython",
    "version": 3
   },
   "file_extension": ".py",
   "mimetype": "text/x-python",
   "name": "python",
   "nbconvert_exporter": "python",
   "pygments_lexer": "ipython3",
   "version": "3.8.5"
  },
  "orig_nbformat": 4
 },
 "nbformat": 4,
 "nbformat_minor": 2
}
